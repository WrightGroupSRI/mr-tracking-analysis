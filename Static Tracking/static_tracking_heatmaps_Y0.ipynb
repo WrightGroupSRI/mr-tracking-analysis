{
 "cells": [
  {
   "cell_type": "markdown",
   "metadata": {},
   "source": [
    "Imports"
   ]
  },
  {
   "cell_type": "code",
   "execution_count": null,
   "metadata": {},
   "outputs": [],
   "source": [
    "from catheter_utils import geometry  \n",
    "from catheter_utils import cathcoords\n",
    "from catheter_utils import metrics\n",
    "from operator import add\n",
    "import dicom_utils\n",
    "import dicom_art\n",
    "import numpy as np \n",
    "import matplotlib.pyplot as plt\n",
    "import matplotlib.colors as plc\n",
    "import scipy.interpolate\n",
    "from mpl_toolkits.mplot3d import Axes3D\n",
    "import glob\n",
    "import os\n",
    "import pydicom as dicom\n",
    "import pandas as pd\n",
    "\n",
    "import scipy.stats as stats\n",
    "\n",
    "%matplotlib inline"
   ]
  },
  {
   "cell_type": "markdown",
   "metadata": {},
   "source": [
    "Heatmap Function"
   ]
  },
  {
   "cell_type": "code",
   "execution_count": null,
   "metadata": {},
   "outputs": [],
   "source": [
    "##### Heatmap ######\n",
    "def nonuniform_imshow(x, y, z, aspect = 1, cmap = plt.cm.rainbow):\n",
    "    # Create regular grid\n",
    "    xi, yi = np.linspace(x.min() - 16.6, x.max() + 16.6, 4), np.linspace(y.min() - 16.6, y.max() + 16.6, 4)\n",
    "    xi, yi = np.meshgrid(xi, yi)\n",
    "\n",
    "    norm = plc.Normalize(vmin = 0, vmax = 5)\n",
    "    interp = scipy.interpolate.NearestNDInterpolator(list(zip(x, y)), z)\n",
    "    zi = interp(xi, yi)\n",
    "\n",
    "    fig, ax = plt.subplots(figsize=(12, 8))\n",
    "\n",
    "    hm = ax.imshow(zi, interpolation = 'nearest', cmap = cmap, norm = norm, extent = [x.min() - 16.6, x.max() + 16.6, y.max() + 16.6, y.min() - 16.6])\n",
    "    ax.scatter(x, y, c = 'k')\n",
    "    ax.set_aspect(aspect)\n",
    "    return hm"
   ]
  },
  {
   "cell_type": "markdown",
   "metadata": {},
   "source": [
    "Constants and Paths"
   ]
  },
  {
   "cell_type": "code",
   "execution_count": null,
   "metadata": {},
   "outputs": [],
   "source": [
    "# Main data paths for each catheter (manually input)\n",
    "parent_path = '../data/processed'\n",
    "main_path_222 = parent_path + '/static/trackTest-17Aug2021-C222-Y0/'\n",
    "main_path_231 = parent_path + '/static/trackTest-15Dec2021-C231-Y0/'\n",
    "main_path_306 = parent_path + '/static/trackTest-13Dec2021-C306-Y0/'\n",
    "\n",
    "main_path = [main_path_222, main_path_231, main_path_306]\n",
    "\n",
    "# Where you would like to save the heatmaps (manually input)\n",
    "heatmap_path = '../reports/figures/static/Y45mm/'\n",
    "\n",
    "alg = 'jpng'\n",
    "\n",
    "Gt_filename = '1GroundTruthCoords.csv'\n",
    "\n",
    "geometry_index = 1"
   ]
  },
  {
   "cell_type": "markdown",
   "metadata": {},
   "source": [
    "Get CP3 Data"
   ]
  },
  {
   "cell_type": "code",
   "execution_count": null,
   "metadata": {},
   "outputs": [],
   "source": [
    "path_dct = {}\n",
    "\n",
    "seq = 'SRI_Original'\n",
    "\n",
    "# Get data for each catheter\n",
    "for path in main_path:\n",
    "\n",
    "    coords = []\n",
    "    distcoords = []\n",
    "    proxcoords = []\n",
    "\n",
    "    # Register every bias (16 in this case)\n",
    "    for i in range(16):\n",
    "\n",
    "        # Get ground truth info for each point\n",
    "        Gt_path = path + str(i + 1) + '/' + Gt_filename\n",
    "        Gt_file = open(Gt_path, 'r')\n",
    "        reader = Gt_file.readlines()\n",
    "        distal_gt = []\n",
    "        proximal_gt = []\n",
    "\n",
    "        for line in reader[1:]:\n",
    "            data = line.split(',')\n",
    "            if (data[-2].strip() == 'dist'):\n",
    "                distal_gt.append(np.array([float(data[1]), float(data[2]), float(data[3])]))\n",
    "                distal_gt = np.array(distal_gt)\n",
    "                distal_index = int(data[-1].strip())\n",
    "                \n",
    "            elif (data[-2].strip() == 'prox'):\n",
    "                proximal_gt.append(np.array([float(data[1]), float(data[2]), float(data[3])]))\n",
    "                proximal_gt = np.array(proximal_gt)\n",
    "                proximal_index = int(data[-1].strip())\n",
    "        \n",
    "        # Determine coil geometry for each point\n",
    "        geo = geometry.GEOMETRY[geometry_index]\n",
    "        fit = geo.fit_from_coils_mse(distal_gt, proximal_gt)\n",
    "        tip_gt = fit.tip\n",
    "\n",
    "        # Choose relevant sequence directory\n",
    "        directories = [f.name for f in os.scandir(path + str(i + 1) + '/') if f.is_dir()]\n",
    "        for directory in directories:\n",
    "            if directory.startswith(seq):\n",
    "                curr_dir = path + str(i + 1) + '/' + directory + '/'\n",
    "\n",
    "        # Get error data for current point\n",
    "        cathcoord_files = cathcoords.discover_files(curr_dir + alg + '/')\n",
    "\n",
    "        if bool(cathcoord_files) == True:\n",
    "            distal_file = cathcoord_files[0][distal_index]    \n",
    "            proximal_file = cathcoord_files[0][proximal_index]\n",
    "\n",
    "            bias = metrics.Bias(distal_file, proximal_file, tip_gt, geo)\n",
    "\n",
    "            coords.append([tip_gt[0][0], tip_gt[0][2], bias])\n",
    "\n",
    "        else:\n",
    "            coords.append([tip_gt[0][0], tip_gt[0][2], 0])\n",
    "    \n",
    "    coords = np.array(coords)\n",
    "\n",
    "    path_dct[path] = coords\n",
    "\n",
    "# Average the error\n",
    "avg_all_caths = (path_dct[main_path_222] + path_dct[main_path_231] + path_dct[main_path_306]) / 3\n",
    "avg_err = avg_all_caths[:, 2]\n",
    "my_data = np.array([avg_all_caths[:, 0], avg_all_caths[:, 1], avg_err]).T"
   ]
  },
  {
   "cell_type": "markdown",
   "metadata": {},
   "source": [
    "Generate CP3 Heatmap"
   ]
  },
  {
   "cell_type": "code",
   "execution_count": null,
   "metadata": {},
   "outputs": [],
   "source": [
    "X = my_data[:, 0]\n",
    "Y = my_data[:, 1]\n",
    "Z = my_data[:, 2]\n",
    "\n",
    "heatmap = nonuniform_imshow(X, Y, Z)\n",
    "plt.gca().invert_yaxis()\n",
    "plt.xlabel('X-Position (mm from isocentre)', fontsize = 18, fontweight = 'bold', labelpad = 10)\n",
    "plt.ylabel('Z-Position (mm from isocentre)', fontsize = 18, fontweight = 'bold', labelpad = 10)\n",
    "plt.xticks(fontsize = 16)\n",
    "plt.yticks(fontsize = 16)\n",
    "# plt.title('Tip Tracking Error @ Y = 45mm (Conventional Sequence)'.format(seq, alg), fontsize = 18, fontweight = \"bold\")\n",
    "cbar = plt.colorbar(heatmap)\n",
    "cbar.ax.set_yticklabels(['0', '1', '2', '3', '4', '\\u2265' + '5'])\n",
    "cbar.ax.get_yaxis().labelpad = 30\n",
    "cbar.ax.tick_params(labelsize = 16) \n",
    "cbar.ax.set_ylabel('Error (mm)', rotation = 270, fontsize = 18, fontweight = 'bold')\n",
    "\n",
    "if not os.path.isdir('{0}'.format(heatmap_path)):\n",
    "    os.makedirs('{0}'.format(heatmap_path))\n",
    "    \n",
    "plt.savefig('{0}{1}_heatmap.png'.format(heatmap_path, seq), dpi=300)"
   ]
  },
  {
   "cell_type": "markdown",
   "metadata": {},
   "source": [
    "Get Hadamard Data"
   ]
  },
  {
   "cell_type": "code",
   "execution_count": null,
   "metadata": {},
   "outputs": [],
   "source": [
    "seq = 'FH512_noDither_gradSpoiled'\n",
    "\n",
    "path_dct = {}\n",
    "\n",
    "# Get data for each catheter\n",
    "for path in main_path:\n",
    "\n",
    "    coords = []\n",
    "\n",
    "    # Register every bias (16 in this case)\n",
    "    for i in range(16):\n",
    "\n",
    "        # Get ground truth info for each point\n",
    "        Gt_path = path + str(i + 1) + '/' + Gt_filename\n",
    "        Gt_file = open(Gt_path, 'r')\n",
    "        reader = Gt_file.readlines()\n",
    "        distal_gt = []\n",
    "        proximal_gt = []\n",
    "\n",
    "        for line in reader[1:]:\n",
    "            data = line.split(',')\n",
    "            if (data[-2].strip() == 'dist'):\n",
    "                distal_gt.append(np.array([float(data[1]), float(data[2]), float(data[3])]))\n",
    "                distal_gt = np.array(distal_gt)\n",
    "                distal_index = int(data[-1].strip())\n",
    "                \n",
    "            elif (data[-2].strip() == 'prox'):\n",
    "                proximal_gt.append(np.array([float(data[1]), float(data[2]), float(data[3])]))\n",
    "                proximal_gt = np.array(proximal_gt)\n",
    "                proximal_index = int(data[-1].strip())\n",
    "        \n",
    "        # Determine coil geometry for each point\n",
    "        geo = geometry.GEOMETRY[geometry_index]\n",
    "        fit = geo.fit_from_coils_mse(distal_gt, proximal_gt)\n",
    "        tip_gt = fit.tip\n",
    "\n",
    "        # Choose relevant sequence directory\n",
    "        directories = [f.name for f in os.scandir(path + str(i + 1) + '/') if f.is_dir()]\n",
    "        for directory in directories:\n",
    "            if directory.startswith(seq):\n",
    "                curr_dir = path + str(i + 1) + '/' + directory + '/'\n",
    "\n",
    "        # Get error data for current point\n",
    "        cathcoord_files = cathcoords.discover_files(curr_dir + alg + '/')\n",
    "\n",
    "        if bool(cathcoord_files) == True:\n",
    "            distal_file = cathcoord_files[0][distal_index]    \n",
    "            proximal_file = cathcoord_files[0][proximal_index]\n",
    "            \n",
    "            bias = metrics.Bias(distal_file, proximal_file, tip_gt, geo)\n",
    "\n",
    "            coords.append([tip_gt[0][0], tip_gt[0][2], bias])\n",
    "\n",
    "        else:\n",
    "            coords.append([tip_gt[0][0], tip_gt[0][2], 0])\n",
    "    \n",
    "    coords = np.array(coords)\n",
    "    path_dct[path] = coords\n",
    "\n",
    "# Average the error\n",
    "avg_all_caths = (path_dct[main_path_222] + path_dct[main_path_231] + path_dct[main_path_306]) / 3\n",
    "avg_err = avg_all_caths[:, 2]\n",
    "my_data = np.array([avg_all_caths[:, 0], avg_all_caths[:, 1], avg_err]).T"
   ]
  },
  {
   "cell_type": "markdown",
   "metadata": {},
   "source": [
    "Generate Hadamard Heatmap"
   ]
  },
  {
   "cell_type": "code",
   "execution_count": null,
   "metadata": {},
   "outputs": [],
   "source": [
    "X = my_data[:, 0]\n",
    "Y = my_data[:, 1]\n",
    "Z = my_data[:, 2]\n",
    "\n",
    "heatmap = nonuniform_imshow(X, Y, Z)\n",
    "plt.gca().invert_yaxis()\n",
    "plt.xlabel('X-Position (mm from isocentre)', fontsize = 18, fontweight = 'bold', labelpad = 10)\n",
    "plt.ylabel('Z-Position (mm from isocentre)', fontsize = 18, fontweight = 'bold', labelpad = 10)\n",
    "plt.xticks(fontsize = 16)\n",
    "plt.yticks(fontsize = 16)\n",
    "# plt.title('Tip Tracking Error @ Y = 45mm (Hadamard Multiplexed Sequence)'.format(seq, alg), fontsize = 18, fontweight = \"bold\")\n",
    "cbar = plt.colorbar(heatmap)\n",
    "cbar.ax.set_yticklabels(['0', '1', '2', '3', '4', '\\u2265' + '5'])\n",
    "cbar.ax.get_yaxis().labelpad = 30\n",
    "cbar.ax.tick_params(labelsize = 16) \n",
    "cbar.ax.set_ylabel('Error (mm)', rotation = 270, fontsize = 18, fontweight = 'bold')\n",
    "\n",
    "if not os.path.isdir('{0}'.format(heatmap_path)):\n",
    "    os.makedirs('{0}'.format(heatmap_path))\n",
    "    \n",
    "plt.savefig('{0}{1}_heatmap.png'.format(heatmap_path, seq), dpi=300)"
   ]
  }
 ],
 "metadata": {
  "interpreter": {
   "hash": "faaffcb662fd8d53d9aa6012931c3eac61a157958a25dd4c110674458c2f82bd"
  },
  "kernelspec": {
   "display_name": "Python 3",
   "language": "python",
   "name": "python3"
  },
  "language_info": {
   "codemirror_mode": {
    "name": "ipython",
    "version": 3
   },
   "file_extension": ".py",
   "mimetype": "text/x-python",
   "name": "python",
   "nbconvert_exporter": "python",
   "pygments_lexer": "ipython3",
   "version": "3.8.10"
  }
 },
 "nbformat": 4,
 "nbformat_minor": 2
}
